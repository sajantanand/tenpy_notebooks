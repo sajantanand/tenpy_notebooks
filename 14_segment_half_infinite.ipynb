{
 "cells": [
  {
   "cell_type": "markdown",
   "metadata": {},
   "source": [
    "# Excitations with DMRG and segment boundary conditions"
   ]
  },
  {
   "cell_type": "markdown",
   "metadata": {},
   "source": [
    "This notebook illustrates how we can find excited states with DMRG.\n",
    "\n",
    "The idea is that we run a first DMRG to find the ground state $|\\psi_0\\rangle$ and then run DMRG on a modified Hamiltonian\n",
    "$$H \\rightarrow H'= (1-|\\psi_0 \\rangle \\langle \\psi_0|) H (1-|\\psi_0 \\rangle \\langle \\psi_0|)$$\n",
    "to find the first excited state $|\\psi_1\\rangle $.\n",
    "\n",
    "For the second excited state, we would use \n",
    "$$H \\rightarrow H''= (1-|\\psi_0 \\rangle \\langle \\psi_0| - |\\psi_1 \\rangle \\langle \\psi_1|) H (1-|\\psi_0 \\rangle \\langle \\psi_0| - |\\psi_1 \\rangle \\langle \\psi_1|),$$ \n",
    "and so on.\n",
    "\n",
    "\n",
    "In the infinite case, this doesn't work because the overlaps/projectors are no longer well defined. However, we can consider a finite segment in the infinite chain, and take the limit of making that segment very big."
   ]
  },
  {
   "cell_type": "markdown",
   "metadata": {},
   "source": [
    "Please follow these guidelines:\n",
    "\n",
    "- [x] Choose the (beggining of the) filename such that the order of the included examples makes somewhat sense and the basic examples come first.\n",
    "- [x] Include a title at the top of the notebook to make sure it can be included into the documentation.\n",
    "  Use only subtitles afterwards.\n",
    "- [ ] Include the output such that others don't need to rerun everything to see it.\n",
    "- [ ] Before saving, \"Restart Kernel and Run All Cells\" to ensure that everything works properly.\n",
    "- [ ] Add a summary of what is shown in the example at the top, if this seems useful/necessary.\n",
    "- [ ] Remove this comment"
   ]
  },
  {
   "cell_type": "code",
   "execution_count": 1,
   "metadata": {},
   "outputs": [],
   "source": [
    "import numpy as np\n",
    "import scipy\n",
    "import matplotlib.pyplot as plt\n",
    "np.set_printoptions(precision=5, suppress=True, linewidth=100)\n",
    "plt.rcParams['figure.dpi'] = 150"
   ]
  },
  {
   "cell_type": "code",
   "execution_count": 2,
   "metadata": {},
   "outputs": [],
   "source": [
    "import tenpy\n",
    "import tenpy.linalg.np_conserved as npc\n",
    "from tenpy.algorithms import dmrg\n",
    "from tenpy.networks.mps import MPS\n",
    "from tenpy.models.xxz_chain import XXZChain\n",
    "from tenpy.models.tf_ising import TFIChain\n",
    "\n",
    "tenpy.tools.misc.setup_logging(to_stdout=\"INFO\")"
   ]
  },
  {
   "cell_type": "markdown",
   "metadata": {},
   "source": [
    "## Infinite Systems with a modified center: segment boundary conditions\n",
    "\n",
    "\n",
    "For infinite systems, the issue arrises that the overlap of two different states is formally always zero.\n",
    "However, we can look for excitations on a finite \"segment\" in the center and keep everything outside this segment\n",
    "fixed:\n",
    "\n",
    "```\n",
    "fixed left half-infinte chain   |      \"segment\"                        |   fixed right half-infinte chain\n",
    "\n",
    "      ... --A[-3]--A[-2]--A[-1]--C[0]--C[1]--C[2]-- ... --C[L-2]--C[L-1]--B[L]--B[L+1]--B[L+2]-- ...\n",
    "```\n",
    "Here, all the `A` of the left half-chain have to be in left-canonical form, all the `B` on the right are right-canonical, and the `C` can be in any canonical form, with a center matrix somewhere (where we do DMRG).\n",
    "Since we keep the `A` and `B` fixed, the overlap with a state of modified `C` is well definied again, and we can use the same trick to orhtogonalize against previously found states.\n",
    "\n",
    "In DMRG, we can acchieve this situation by just fixing the environments at the boundaries of the segment.\n",
    "If we take trivial boundaries on one of the two sides, we can study the boundary of a half-infinite chain."
   ]
  },
  {
   "cell_type": "code",
   "execution_count": 3,
   "metadata": {},
   "outputs": [],
   "source": [
    "from tenpy.models.lattice import TrivialLattice\n",
    "from tenpy.models.model import MPOModel\n",
    "from tenpy.networks.mpo import MPOEnvironment"
   ]
  },
  {
   "cell_type": "code",
   "execution_count": 4,
   "metadata": {},
   "outputs": [
    {
     "name": "stdout",
     "output_type": "stream",
     "text": [
      "INFO    : TFIChain: reading 'bc_MPS'='infinite'\n",
      "INFO    : TFIChain: reading 'conserve'='best'\n",
      "INFO    : TFIChain: set conserve to parity\n",
      "INFO    : TFIChain: reading 'L'=2\n",
      "INFO    : TFIChain: reading 'J'=1.0\n",
      "INFO    : TFIChain: reading 'g'=1.5\n"
     ]
    }
   ],
   "source": [
    "model_params = {\n",
    "    'J': 1. , 'g': 1.5, \n",
    "    'L': 2,\n",
    "    'bc_MPS': 'infinite',\n",
    "    'conserve': 'best',\n",
    "}\n",
    "\n",
    "M_i = TFIChain(model_params)"
   ]
  },
  {
   "cell_type": "code",
   "execution_count": 5,
   "metadata": {
    "scrolled": true
   },
   "outputs": [
    {
     "name": "stdout",
     "output_type": "stream",
     "text": [
      "INFO    : TwoSiteDMRGEngine: subconfig 'trunc_params'=Config(<2 options>, 'trunc_params')\n",
      "INFO    : start environment_sweep\n",
      "INFO    : trunc_params: reading 'chi_max'=100\n",
      "INFO    : trunc_params: reading 'svd_min'=1e-10\n",
      "INFO    : TwoSiteDMRGEngine: reading 'max_E_err'=1e-10\n",
      "INFO    : TwoSiteDMRGEngine: reading 'mixer'=True\n",
      "INFO    : Running sweep with optimization\n",
      "INFO    : start environment_sweep\n",
      "INFO    : checkpoint after sweep 10\n",
      "energy=-1.6719262215361717, max S=0.3777904057721018, age=128, norm_err=5.0e-16\n",
      "Current memory usage 118.9MB, wall time: 1.2s\n",
      "Delta E = nan, Delta S = 3.7779e-02 (per sweep)\n",
      "max trunc_err = 1.5828e-20, max E_trunc = 2.8422e-14\n",
      "chi: [22, 22]\n",
      "================================================================================\n",
      "INFO    : Running sweep with optimization\n",
      "INFO    : disable mixer after 15 sweeps, final amplitude 3.05e-10\n",
      "INFO    : start environment_sweep\n",
      "INFO    : checkpoint after sweep 20\n",
      "energy=-1.6719262215361894, max S=0.3777889917398420, age=248, norm_err=9.2e-16\n",
      "Current memory usage 118.9MB, wall time: 1.2s\n",
      "Delta E = -1.7764e-15, Delta S = -1.3730e-07 (per sweep)\n",
      "max trunc_err = 2.1066e-20, max E_trunc = 5.6843e-14\n",
      "chi: [21, 21]\n",
      "================================================================================\n",
      "INFO    : DMRG finished after 20 sweeps, max chi=21\n"
     ]
    }
   ],
   "source": [
    "# first dmrg run for *infinite* lattice\n",
    "psi0_i = MPS.from_lat_product_state(M_i.lat, [['up']])\n",
    "\n",
    "dmrg_params = {\n",
    "    'mixer': True,\n",
    "    'max_E_err': 1.e-10,\n",
    "    'trunc_params': {\n",
    "        'chi_max': 100,\n",
    "        'svd_min': 1.e-10,\n",
    "    },\n",
    "}\n",
    "eng0_i = dmrg.TwoSiteDMRGEngine(psi0_i, M_i, dmrg_params) \n",
    "E0_i, _ = eng0_i.run()\n",
    "resume_psi0_i = eng0_i.get_resume_data(sequential_simulations=True)"
   ]
  },
  {
   "cell_type": "code",
   "execution_count": 6,
   "metadata": {},
   "outputs": [
    {
     "data": {
      "text/plain": [
       "{'psi': <tenpy.networks.mps.MPS at 0x7fe6d7956580>,\n",
       " 'init_env_data': {'init_LP': <npc.Array shape=(21, 3, 21) labels=['vR*', 'wR', 'vR']>,\n",
       "  'init_RP': <npc.Array shape=(21, 3, 21) labels=['vL', 'wL', 'vL*']>,\n",
       "  'age_LP': 124,\n",
       "  'age_RP': 124}}"
      ]
     },
     "execution_count": 6,
     "metadata": {},
     "output_type": "execute_result"
    }
   ],
   "source": [
    "resume_psi0_i"
   ]
  },
  {
   "cell_type": "code",
   "execution_count": 7,
   "metadata": {},
   "outputs": [
    {
     "data": {
      "text/plain": [
       "array([0.15349, 0.15349])"
      ]
     },
     "execution_count": 7,
     "metadata": {},
     "output_type": "execute_result"
    }
   ],
   "source": [
    "psi0_i.entanglement_entropy()"
   ]
  },
  {
   "cell_type": "code",
   "execution_count": 8,
   "metadata": {},
   "outputs": [],
   "source": [
    "enlarge = 10  # this is a parameter: how large should the \"segment\" be?\n",
    "# beware: if you have gapless excitations, this will induce a \"finite-size\" gap ~ 1/(enlarge*N_sites_per_unit_cell)\n",
    "\n",
    "M_s = M_i.extract_segment(enlarge=10)\n",
    "first, last = M_s.lat.segment_first_last\n",
    "\n",
    "\n",
    "psi0_s = psi0_i.extract_segment(first, last)\n",
    "init_env_data = eng0_i.env.get_initialization_data(first, last)\n",
    "\n",
    "psi1_s = psi0_s.copy()  # TODO: perturb this a little bit\n",
    "resume_psi1_s = {'init_env_data': init_env_data}\n"
   ]
  },
  {
   "cell_type": "markdown",
   "metadata": {},
   "source": [
    "Note: there is a somewhat arbitrary constant in the energy depending on the number of contracted sites in the environment. You should only compare energy differences!"
   ]
  },
  {
   "cell_type": "code",
   "execution_count": 9,
   "metadata": {
    "scrolled": true
   },
   "outputs": [
    {
     "name": "stdout",
     "output_type": "stream",
     "text": [
      "INFO    : TwoSiteDMRGEngine: reading 'diag_method'='default'\n",
      "INFO    : TwoSiteDMRGEngine: subconfig 'trunc_params'=Config(<5 options>, 'trunc_params')\n",
      "INFO    : TwoSiteDMRGEngine: reading 'combine'=False\n",
      "INFO    : TwoSiteDMRGEngine: subconfig 'lanczos_params'=Config(<9 options>, 'lanczos_params')\n",
      "INFO    : TwoSiteDMRGEngine: reading 'chi_list'=None\n",
      "INFO    : TwoSiteDMRGEngine: reading 'P_tol_to_trunc'=0.05\n",
      "INFO    : TwoSiteDMRGEngine: reading 'P_tol_min'=5.0000000000000005e-22\n",
      "INFO    : TwoSiteDMRGEngine: reading 'P_tol_max'=0.0001\n",
      "INFO    : TwoSiteDMRGEngine: reading 'E_tol_to_trunc'=None\n",
      "INFO    : TwoSiteDMRGEngine: reading 'N_sweeps_check'=10\n",
      "INFO    : TwoSiteDMRGEngine: reading 'min_sweeps'=15\n",
      "INFO    : TwoSiteDMRGEngine: reading 'max_sweeps'=1000\n",
      "INFO    : TwoSiteDMRGEngine: reading 'max_E_err'=1e-10\n",
      "INFO    : TwoSiteDMRGEngine: reading 'max_S_err'=1e-05\n",
      "INFO    : TwoSiteDMRGEngine: reading 'max_hours'=8760\n",
      "INFO    : TwoSiteDMRGEngine: reading 'mixer'=True\n",
      "INFO    : TwoSiteDMRGEngine: subconfig 'mixer_params'=Config(<3 options>, 'mixer_params')\n",
      "INFO    : Running sweep with optimization\n",
      "INFO    : TwoSiteDMRGEngine: reading 'max_N_for_ED'=400\n",
      "INFO    : checkpoint after sweep 10\n",
      "energy=-446.5168099222832438, max S=0.3777916561162044, age=268, norm_err=1.9e-12\n",
      "Current memory usage 119.5MB, wall time: 10.9s\n",
      "Delta E = nan, Delta S = 2.2430e-02 (per sweep)\n",
      "max trunc_err = 4.0435e-20, max E_trunc = 7.9581e-13\n",
      "chi: [21, 22, 23, 20, 22, 20, 22, 24, 21, 25, 25, 21, 22, 22, 26, 24, 22, 25, 25, 23, 21]\n",
      "================================================================================\n",
      "INFO    : Running sweep with optimization\n",
      "INFO    : disable mixer after 15 sweeps, final amplitude 3.05e-10\n",
      "INFO    : checkpoint after sweep 20\n",
      "energy=-446.5168099222866545, max S=0.3777889917721954, age=268, norm_err=1.4e-13\n",
      "Current memory usage 119.7MB, wall time: 6.4s\n",
      "Delta E = -3.4106e-13, Delta S = -5.0629e-08 (per sweep)\n",
      "max trunc_err = 2.1068e-20, max E_trunc = 3.4106e-13\n",
      "chi: [21, 21, 21, 21, 21, 21, 21, 21, 21, 21, 21, 21, 21, 21, 21, 21, 21, 21, 21, 21, 21]\n",
      "================================================================================\n",
      "INFO    : TwoSiteDMRGEngine: reading 'norm_tol'=1e-05\n",
      "INFO    : DMRG finished after 20 sweeps, max chi=21\n"
     ]
    }
   ],
   "source": [
    "eng = dmrg.TwoSiteDMRGEngine(psi1_s, M_s, dmrg_params, resume_data=resume_psi1_s)\n",
    "E1_s, _ = eng.run()"
   ]
  },
  {
   "cell_type": "code",
   "execution_count": 10,
   "metadata": {},
   "outputs": [
    {
     "data": {
      "text/plain": [
       "array([0.15349, 0.15349, 0.15349, 0.15349, 0.15349, 0.15349, 0.15349, 0.15349, 0.15349, 0.15349,\n",
       "       0.15349, 0.15349, 0.15349, 0.15349, 0.15349, 0.15349, 0.15349, 0.15349, 0.15349, 0.15349,\n",
       "       0.15349])"
      ]
     },
     "execution_count": 10,
     "metadata": {},
     "output_type": "execute_result"
    }
   ],
   "source": [
    "psi1_s.entanglement_entropy()"
   ]
  },
  {
   "cell_type": "code",
   "execution_count": 11,
   "metadata": {},
   "outputs": [
    {
     "data": {
      "text/plain": [
       "array([-0., -0., -0., -0., -0., -0., -0., -0., -0., -0., -0., -0., -0., -0., -0., -0., -0., -0.,\n",
       "       -0., -0., -0.])"
      ]
     },
     "execution_count": 11,
     "metadata": {},
     "output_type": "execute_result"
    }
   ],
   "source": [
    "psi1_s.entanglement_entropy() - np.mean(psi0_i.entanglement_entropy())"
   ]
  },
  {
   "cell_type": "code",
   "execution_count": null,
   "metadata": {},
   "outputs": [],
   "source": [
    "\n"
   ]
  },
  {
   "cell_type": "markdown",
   "metadata": {},
   "source": [
    "## project left boundary onto largest right schmidt state, use trivial/finite left bc"
   ]
  },
  {
   "cell_type": "code",
   "execution_count": 12,
   "metadata": {},
   "outputs": [],
   "source": [
    "psi_halfinf = psi0_s.copy()  # the oringinal MPS\n",
    "S = psi0_s.get_SL(0)\n",
    "proj = np.zeros(len(S), bool)\n",
    "proj[np.argmax(S)] = True\n",
    "B = psi_halfinf.get_B(0, form='B')\n",
    "B.iproject(proj, 'vL')\n",
    "psi_halfinf.set_B(0, B, form='B')\n",
    "psi_halfinf.set_SL(0, np.ones(1, float))\n",
    "psi_halfinf.canonical_form_finite()\n",
    "psi_halfinf.test_sanity()\n",
    "\n",
    "init_env_data_halfinf = init_env_data.copy()\n",
    "init_env_data_halfinf['init_LP'] = MPOEnvironment(psi0_i, M_i.H_MPO, psi0_i).init_LP(0, 0)\n",
    "init_env_data_halfinf['age_LP'] = 0"
   ]
  },
  {
   "cell_type": "code",
   "execution_count": 13,
   "metadata": {},
   "outputs": [
    {
     "name": "stdout",
     "output_type": "stream",
     "text": [
      "INFO    : TwoSiteDMRGEngine: reading 'diag_method'='default'\n",
      "INFO    : TwoSiteDMRGEngine: subconfig 'trunc_params'=Config(<5 options>, 'trunc_params')\n",
      "INFO    : TwoSiteDMRGEngine: reading 'combine'=False\n",
      "INFO    : TwoSiteDMRGEngine: subconfig 'lanczos_params'=Config(<9 options>, 'lanczos_params')\n",
      "WARNING : dropping `init_LP` with incompatible MPS legs\n",
      "INFO    : TwoSiteDMRGEngine: reading 'chi_list'=None\n",
      "INFO    : TwoSiteDMRGEngine: reading 'P_tol_to_trunc'=0.05\n",
      "INFO    : TwoSiteDMRGEngine: reading 'P_tol_min'=5.0000000000000005e-22\n",
      "INFO    : TwoSiteDMRGEngine: reading 'P_tol_max'=0.0001\n",
      "INFO    : TwoSiteDMRGEngine: reading 'E_tol_to_trunc'=None\n",
      "INFO    : TwoSiteDMRGEngine: reading 'N_sweeps_check'=10\n",
      "INFO    : TwoSiteDMRGEngine: reading 'min_sweeps'=15\n",
      "INFO    : TwoSiteDMRGEngine: reading 'max_sweeps'=1000\n",
      "INFO    : TwoSiteDMRGEngine: reading 'max_E_err'=1e-10\n",
      "INFO    : TwoSiteDMRGEngine: reading 'max_S_err'=1e-05\n",
      "INFO    : TwoSiteDMRGEngine: reading 'max_hours'=8760\n",
      "INFO    : TwoSiteDMRGEngine: reading 'mixer'=True\n",
      "INFO    : TwoSiteDMRGEngine: subconfig 'mixer_params'=Config(<3 options>, 'mixer_params')\n",
      "INFO    : Running sweep with optimization\n",
      "INFO    : TwoSiteDMRGEngine: reading 'max_N_for_ED'=400\n",
      "INFO    : checkpoint after sweep 10\n",
      "energy=-239.8856633379389791, max S=0.3777897911442927, age=144, norm_err=5.1e-11\n",
      "Current memory usage 125.4MB, wall time: 7.9s\n",
      "Delta E = nan, Delta S = 2.2746e-02 (per sweep)\n",
      "max trunc_err = 4.1687e-20, max E_trunc = 3.6948e-13\n",
      "chi: [1, 2, 4, 8, 12, 21, 21, 21, 22, 23, 24, 20, 21, 22, 22, 20, 23, 23, 24, 23, 21]\n",
      "================================================================================\n",
      "INFO    : Running sweep with optimization\n",
      "INFO    : disable mixer after 15 sweeps, final amplitude 3.05e-10\n",
      "INFO    : checkpoint after sweep 20\n",
      "energy=-239.8856633379392065, max S=0.3777889746421544, age=144, norm_err=5.1e-11\n",
      "Current memory usage 125.4MB, wall time: 5.0s\n",
      "Delta E = -2.2737e-14, Delta S = -1.8449e-08 (per sweep)\n",
      "max trunc_err = 2.0794e-20, max E_trunc = 1.1369e-13\n",
      "chi: [1, 2, 4, 8, 13, 17, 20, 20, 20, 20, 21, 21, 21, 21, 21, 21, 21, 21, 21, 21, 21]\n",
      "================================================================================\n",
      "INFO    : TwoSiteDMRGEngine: reading 'norm_tol'=1e-05\n",
      "INFO    : DMRG finished after 20 sweeps, max chi=21\n"
     ]
    },
    {
     "data": {
      "text/plain": [
       "(-239.8856633379392, <tenpy.networks.mps.MPS at 0x7fe6d402e940>)"
      ]
     },
     "execution_count": 13,
     "metadata": {},
     "output_type": "execute_result"
    }
   ],
   "source": [
    "eng_halfinf = dmrg.TwoSiteDMRGEngine(psi_halfinf, M_s, dmrg_params,\n",
    "                                     resume_data={'init_env_data': init_env_data_halfinf})\n",
    "eng_halfinf.run()"
   ]
  },
  {
   "cell_type": "code",
   "execution_count": 14,
   "metadata": {},
   "outputs": [
    {
     "data": {
      "text/plain": [
       "array([-0.     ,  0.13332,  0.14834,  0.15192,  0.15297,  0.15331,  0.15343,  0.15347,  0.15348,\n",
       "        0.15349,  0.15349,  0.15349,  0.15349,  0.15349,  0.15349,  0.15349,  0.15349,  0.15349,\n",
       "        0.15349,  0.15349,  0.15349])"
      ]
     },
     "execution_count": 14,
     "metadata": {},
     "output_type": "execute_result"
    }
   ],
   "source": [
    "psi_halfinf.entanglement_entropy()"
   ]
  },
  {
   "cell_type": "code",
   "execution_count": 15,
   "metadata": {},
   "outputs": [
    {
     "data": {
      "text/plain": [
       "array([0.94082, 0.88667, 0.87957, 0.87797, 0.87753, 0.8774 , 0.87735, 0.87734, 0.87733, 0.87733,\n",
       "       0.87733, 0.87733, 0.87733, 0.87733, 0.87733, 0.87733, 0.87733, 0.87733, 0.87733, 0.87733])"
      ]
     },
     "execution_count": 15,
     "metadata": {},
     "output_type": "execute_result"
    }
   ],
   "source": [
    "psi_halfinf.expectation_value('Sigmaz')"
   ]
  },
  {
   "cell_type": "code",
   "execution_count": 16,
   "metadata": {},
   "outputs": [
    {
     "data": {
      "text/plain": [
       "20"
      ]
     },
     "execution_count": 16,
     "metadata": {},
     "output_type": "execute_result"
    }
   ],
   "source": [
    "psi_halfinf.L"
   ]
  },
  {
   "cell_type": "markdown",
   "metadata": {},
   "source": [
    "## modify model on left boundary"
   ]
  },
  {
   "cell_type": "code",
   "execution_count": 17,
   "metadata": {},
   "outputs": [
    {
     "name": "stdout",
     "output_type": "stream",
     "text": [
      "INFO    : TFIChain: reading 'bc_MPS'='segment'\n",
      "INFO    : TFIChain: reading 'conserve'='best'\n",
      "INFO    : TFIChain: set conserve to parity\n",
      "INFO    : TFIChain: reading 'L'=20\n",
      "INFO    : TFIChain: reading 'J'=1.0\n",
      "INFO    : TFIChain: reading 'g'=[0.0, 1.5, 1.5, 1.5, 1.5, 1.5, 1.5, 1.5, 1.5, 1.5, 1.5, 1.5, 1.5, 1.5, 1.5, 1.5, 1.5, 1.5, 1.5, 1.5]\n"
     ]
    }
   ],
   "source": [
    "model_params_defect = {\n",
    "    'J': 1. , 'g': [0.] + [model_params['g']] * (psi_halfinf.L-1), \n",
    "    'L': psi_halfinf.L,\n",
    "    'bc_MPS': 'segment',\n",
    "    'conserve': 'best',\n",
    "}\n",
    "\n",
    "M_s_defect = TFIChain(model_params_defect)"
   ]
  },
  {
   "cell_type": "code",
   "execution_count": 18,
   "metadata": {},
   "outputs": [
    {
     "name": "stdout",
     "output_type": "stream",
     "text": [
      "INFO    : TwoSiteDMRGEngine: reading 'diag_method'='default'\n",
      "INFO    : TwoSiteDMRGEngine: subconfig 'trunc_params'=Config(<5 options>, 'trunc_params')\n",
      "INFO    : TwoSiteDMRGEngine: reading 'combine'=False\n",
      "INFO    : TwoSiteDMRGEngine: subconfig 'lanczos_params'=Config(<9 options>, 'lanczos_params')\n",
      "WARNING : dropping `init_LP` with incompatible MPS legs\n",
      "INFO    : TwoSiteDMRGEngine: reading 'chi_list'=None\n",
      "INFO    : TwoSiteDMRGEngine: reading 'P_tol_to_trunc'=0.05\n",
      "INFO    : TwoSiteDMRGEngine: reading 'P_tol_min'=5.0000000000000005e-22\n",
      "INFO    : TwoSiteDMRGEngine: reading 'P_tol_max'=0.0001\n",
      "INFO    : TwoSiteDMRGEngine: reading 'E_tol_to_trunc'=None\n",
      "INFO    : TwoSiteDMRGEngine: reading 'N_sweeps_check'=10\n",
      "INFO    : TwoSiteDMRGEngine: reading 'min_sweeps'=15\n",
      "INFO    : TwoSiteDMRGEngine: reading 'max_sweeps'=1000\n",
      "INFO    : TwoSiteDMRGEngine: reading 'max_E_err'=1e-10\n",
      "INFO    : TwoSiteDMRGEngine: reading 'max_S_err'=1e-05\n",
      "INFO    : TwoSiteDMRGEngine: reading 'max_hours'=8760\n",
      "INFO    : TwoSiteDMRGEngine: reading 'mixer'=True\n",
      "INFO    : TwoSiteDMRGEngine: subconfig 'mixer_params'=Config(<3 options>, 'mixer_params')\n",
      "INFO    : Running sweep with optimization\n",
      "INFO    : TwoSiteDMRGEngine: reading 'max_N_for_ED'=400\n",
      "INFO    : checkpoint after sweep 10\n",
      "energy=-238.5696710150712363, max S=0.5073196916549362, age=144, norm_err=7.3e-09\n",
      "Current memory usage 127.0MB, wall time: 9.3s\n",
      "Delta E = nan, Delta S = 2.5631e-02 (per sweep)\n",
      "max trunc_err = 3.5642e-20, max E_trunc = 4.5475e-13\n",
      "chi: [1, 2, 4, 8, 16, 22, 22, 24, 25, 26, 25, 22, 25, 24, 25, 22, 25, 26, 24, 24, 21]\n",
      "================================================================================\n",
      "INFO    : Running sweep with optimization\n",
      "INFO    : disable mixer after 15 sweeps, final amplitude 3.05e-10\n",
      "INFO    : checkpoint after sweep 20\n",
      "energy=-238.5696710150708100, max S=0.5073196916551133, age=144, norm_err=7.3e-09\n",
      "Current memory usage 127.3MB, wall time: 7.1s\n",
      "Delta E = 4.2633e-14, Delta S = -2.6677e-08 (per sweep)\n",
      "max trunc_err = 1.9092e-20, max E_trunc = 6.8212e-13\n",
      "chi: [1, 2, 4, 8, 15, 20, 23, 24, 25, 26, 26, 25, 24, 24, 24, 24, 24, 24, 24, 24, 21]\n",
      "================================================================================\n",
      "INFO    : TwoSiteDMRGEngine: reading 'norm_tol'=1e-05\n",
      "INFO    : DMRG finished after 20 sweeps, max chi=26\n"
     ]
    },
    {
     "data": {
      "text/plain": [
       "(-238.5696710150708, <tenpy.networks.mps.MPS at 0x7fe6c1eb3070>)"
      ]
     },
     "execution_count": 18,
     "metadata": {},
     "output_type": "execute_result"
    }
   ],
   "source": [
    "psi_defect = psi_halfinf.copy()\n",
    "eng_defect = dmrg.TwoSiteDMRGEngine(psi_defect, M_s_defect, dmrg_params,\n",
    "                                    resume_data={'init_env_data': init_env_data_halfinf})\n",
    "eng_defect.run()"
   ]
  },
  {
   "cell_type": "code",
   "execution_count": 19,
   "metadata": {},
   "outputs": [
    {
     "data": {
      "text/plain": [
       "array([-0.     ,  0.38126,  0.2482 ,  0.1929 ,  0.16987,  0.16032,  0.15635,  0.15469,  0.154  ,\n",
       "        0.15371,  0.15358,  0.15353,  0.15351,  0.1535 ,  0.15349,  0.15349,  0.15349,  0.15349,\n",
       "        0.15349,  0.15349,  0.15349])"
      ]
     },
     "execution_count": 19,
     "metadata": {},
     "output_type": "execute_result"
    }
   ],
   "source": [
    "psi_defect.entanglement_entropy()"
   ]
  },
  {
   "cell_type": "code",
   "execution_count": 20,
   "metadata": {},
   "outputs": [
    {
     "data": {
      "text/plain": [
       "array([0.74536, 0.74534, 0.83553, 0.86216, 0.87149, 0.87501, 0.87639, 0.87694, 0.87717, 0.87726,\n",
       "       0.8773 , 0.87732, 0.87732, 0.87733, 0.87733, 0.87733, 0.87733, 0.87733, 0.87733, 0.87733])"
      ]
     },
     "execution_count": 20,
     "metadata": {},
     "output_type": "execute_result"
    }
   ],
   "source": [
    "psi_defect.expectation_value('Sigmaz')"
   ]
  },
  {
   "cell_type": "code",
   "execution_count": null,
   "metadata": {},
   "outputs": [],
   "source": []
  },
  {
   "cell_type": "code",
   "execution_count": null,
   "metadata": {},
   "outputs": [],
   "source": []
  }
 ],
 "metadata": {
  "kernelspec": {
   "display_name": "Python 3",
   "language": "python",
   "name": "python3"
  },
  "language_info": {
   "codemirror_mode": {
    "name": "ipython",
    "version": 3
   },
   "file_extension": ".py",
   "mimetype": "text/x-python",
   "name": "python",
   "nbconvert_exporter": "python",
   "pygments_lexer": "ipython3",
   "version": "3.8.1"
  }
 },
 "nbformat": 4,
 "nbformat_minor": 4
}
