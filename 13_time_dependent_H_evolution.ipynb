{
 "cells": [
  {
   "cell_type": "markdown",
   "metadata": {},
   "source": [
    "# Time evolution with time-dependent Hamiltonian\n",
    "\n",
    "This notebook demonstrates how one can use the `TimeDependentExpMPOEvolution` to simulate the evolution under a time-dependent Hamiltonian: the model just reads out the `time` model parameter, and we do a full re-initialization of the model during each time step. (This could be optimized to e.g. just adjusting values in the final MPO, but generating the model is usually cheap compared to the actual evolution scaling as $\\mathcal{O}(\\chi^3)$.)\n",
    "\n",
    "Note that this method is (currently) only correct to first order in `dt`; to acchieve higher order you need to adjust the algorithms in TeNPy to account for the time dependence."
   ]
  },
  {
   "cell_type": "code",
   "execution_count": 1,
   "metadata": {},
   "outputs": [],
   "source": [
    "import numpy as np\n",
    "import scipy\n",
    "import matplotlib.pyplot as plt\n",
    "np.set_printoptions(precision=5, suppress=True, linewidth=120)"
   ]
  },
  {
   "cell_type": "code",
   "execution_count": 2,
   "metadata": {},
   "outputs": [],
   "source": [
    "import tenpy\n",
    "import tenpy.linalg.np_conserved as npc\n",
    "from tenpy.algorithms import tebd\n",
    "from tenpy.networks.mps import MPS\n",
    "from tenpy.models.spins import SpinChain\n",
    "tenpy.tools.misc.setup_logging(to_stdout=\"DEBUG\")\n",
    "import yaml"
   ]
  },
  {
   "cell_type": "code",
   "execution_count": null,
   "metadata": {},
   "outputs": [],
   "source": []
  },
  {
   "cell_type": "code",
   "execution_count": 3,
   "metadata": {},
   "outputs": [],
   "source": [
    "class MyTimeDepModel(SpinChain):\n",
    "    def init_terms(self, model_params):\n",
    "        model_params['Jz'] = 1./(model_params.get('time', 0.) + 0.01)\n",
    "        super().init_terms(model_params)"
   ]
  },
  {
   "cell_type": "code",
   "execution_count": 4,
   "metadata": {},
   "outputs": [],
   "source": [
    "params = \"\"\"\n",
    "model_class :  MyTimeDepModel\n",
    "model_params :\n",
    "    L : 14\n",
    "    bc_MPS : finite\n",
    "    explicit_plus_hc : True\n",
    "\n",
    "initial_state_params:\n",
    "    method : lat_product_state\n",
    "    product_state : [[up], [down]]\n",
    "\n",
    "algorithm_class: TimeDependentExpMPOEvolution\n",
    "algorithm_params:\n",
    "    trunc_params:\n",
    "        chi_max: 120\n",
    "    dt : 0.05\n",
    "    N_steps : 2\n",
    "    compression_method: variational\n",
    "\n",
    "final_time :  1.5\n",
    "\"\"\"\n",
    "sim_params = yaml.safe_load(params)\n"
   ]
  },
  {
   "cell_type": "code",
   "execution_count": 5,
   "metadata": {},
   "outputs": [
    {
     "name": "stdout",
     "output_type": "stream",
     "text": [
      "INFO    : simulation class RealTimeEvolution\n",
      "INFO    : output filename: None\n",
      "INFO    : RealTimeEvolution: reading 'final_time'=1.5\n",
      "INFO    : RealTimeEvolution: reading 'algorithm_params'={'trunc_params': {'chi_max': 120}, 'dt': 0.05, 'N_steps': 2, 'compression_method': 'variational'}\n",
      "INFO    : RealTimeEvolution: reading 'model_class'='MyTimeDepModel'\n",
      "INFO    : RealTimeEvolution: subconfig 'model_params'=Config(<3 options>, 'model_params')\n",
      "INFO    : model_params: reading 'explicit_plus_hc'=True\n",
      "INFO    : model_params: reading 'bc_MPS'='finite'\n",
      "INFO    : MyTimeDepModel: set conserve to Sz\n",
      "INFO    : model_params: reading 'L'=14\n",
      "INFO    : model_params: setting 'Jz'=100.0\n",
      "INFO    : model_params: reading 'Jz'=100.0\n",
      "INFO    : RealTimeEvolution: subconfig 'initial_state_params'=Config(<2 options>, 'initial_state_params')\n",
      "INFO    : initial_state_params: reading 'method'='lat_product_state'\n",
      "INFO    : calling InitialStateBuilder.lat_product_state()\n",
      "INFO    : initial_state_params: reading 'product_state'=[['up'], ['down']]\n",
      "INFO    : RealTimeEvolution: reading 'algorithm_class'='TimeDependentExpMPOEvolution'\n",
      "INFO    : algorithm_params: subconfig 'trunc_params'=Config(<1 options>, 'trunc_params')\n",
      "INFO    : algorithm_params: reading 'N_steps'=2\n",
      "INFO    : algorithm_params: reading 'dt'=0.05\n",
      "INFO    : Calculate U for {'dt': 0.05, 'order': 1, 'approximation': 'II', 'time': 0.0}\n",
      "INFO    : algorithm_params: reading 'compression_method'='variational'\n",
      "INFO    : trunc_params: reading 'chi_max'=120\n",
      "INFO    : MyTimeDepModel: set conserve to Sz\n",
      "INFO    : Calculate U for {'dt': 0.05, 'order': 1, 'approximation': 'II', 'time': 0.05}\n",
      "INFO    : MyTimeDepModel: set conserve to Sz\n",
      "INFO    : reached time 0.10, max chi=5\n",
      "INFO    : Calculate U for {'dt': 0.05, 'order': 1, 'approximation': 'II', 'time': 0.1}\n",
      "INFO    : MyTimeDepModel: set conserve to Sz\n",
      "INFO    : Calculate U for {'dt': 0.05, 'order': 1, 'approximation': 'II', 'time': 0.15000000000000002}\n",
      "INFO    : MyTimeDepModel: set conserve to Sz\n",
      "INFO    : reached time 0.20, max chi=8\n",
      "INFO    : Calculate U for {'dt': 0.05, 'order': 1, 'approximation': 'II', 'time': 0.2}\n",
      "INFO    : MyTimeDepModel: set conserve to Sz\n",
      "INFO    : Calculate U for {'dt': 0.05, 'order': 1, 'approximation': 'II', 'time': 0.25}\n",
      "INFO    : MyTimeDepModel: set conserve to Sz\n",
      "INFO    : reached time 0.30, max chi=11\n",
      "INFO    : Calculate U for {'dt': 0.05, 'order': 1, 'approximation': 'II', 'time': 0.3}\n",
      "INFO    : MyTimeDepModel: set conserve to Sz\n",
      "INFO    : Calculate U for {'dt': 0.05, 'order': 1, 'approximation': 'II', 'time': 0.35}\n",
      "INFO    : MyTimeDepModel: set conserve to Sz\n",
      "INFO    : reached time 0.40, max chi=11\n",
      "INFO    : Calculate U for {'dt': 0.05, 'order': 1, 'approximation': 'II', 'time': 0.39999999999999997}\n",
      "INFO    : MyTimeDepModel: set conserve to Sz\n",
      "INFO    : Calculate U for {'dt': 0.05, 'order': 1, 'approximation': 'II', 'time': 0.44999999999999996}\n",
      "INFO    : MyTimeDepModel: set conserve to Sz\n",
      "INFO    : reached time 0.50, max chi=13\n",
      "INFO    : Calculate U for {'dt': 0.05, 'order': 1, 'approximation': 'II', 'time': 0.49999999999999994}\n",
      "INFO    : MyTimeDepModel: set conserve to Sz\n",
      "INFO    : Calculate U for {'dt': 0.05, 'order': 1, 'approximation': 'II', 'time': 0.5499999999999999}\n",
      "INFO    : MyTimeDepModel: set conserve to Sz\n",
      "INFO    : reached time 0.60, max chi=13\n",
      "INFO    : Calculate U for {'dt': 0.05, 'order': 1, 'approximation': 'II', 'time': 0.6}\n",
      "INFO    : MyTimeDepModel: set conserve to Sz\n",
      "INFO    : Calculate U for {'dt': 0.05, 'order': 1, 'approximation': 'II', 'time': 0.65}\n",
      "INFO    : MyTimeDepModel: set conserve to Sz\n",
      "INFO    : reached time 0.70, max chi=15\n",
      "INFO    : Calculate U for {'dt': 0.05, 'order': 1, 'approximation': 'II', 'time': 0.7000000000000001}\n",
      "INFO    : MyTimeDepModel: set conserve to Sz\n",
      "INFO    : Calculate U for {'dt': 0.05, 'order': 1, 'approximation': 'II', 'time': 0.7500000000000001}\n",
      "INFO    : MyTimeDepModel: set conserve to Sz\n",
      "INFO    : reached time 0.80, max chi=16\n",
      "INFO    : Calculate U for {'dt': 0.05, 'order': 1, 'approximation': 'II', 'time': 0.8000000000000002}\n",
      "INFO    : MyTimeDepModel: set conserve to Sz\n",
      "INFO    : Calculate U for {'dt': 0.05, 'order': 1, 'approximation': 'II', 'time': 0.8500000000000002}\n",
      "INFO    : MyTimeDepModel: set conserve to Sz\n",
      "INFO    : reached time 0.90, max chi=16\n",
      "INFO    : Calculate U for {'dt': 0.05, 'order': 1, 'approximation': 'II', 'time': 0.9000000000000002}\n",
      "INFO    : MyTimeDepModel: set conserve to Sz\n",
      "INFO    : Calculate U for {'dt': 0.05, 'order': 1, 'approximation': 'II', 'time': 0.9500000000000003}\n",
      "INFO    : MyTimeDepModel: set conserve to Sz\n",
      "INFO    : reached time 1.00, max chi=17\n",
      "INFO    : Calculate U for {'dt': 0.05, 'order': 1, 'approximation': 'II', 'time': 1.0000000000000002}\n",
      "INFO    : MyTimeDepModel: set conserve to Sz\n",
      "INFO    : Calculate U for {'dt': 0.05, 'order': 1, 'approximation': 'II', 'time': 1.0500000000000003}\n",
      "INFO    : MyTimeDepModel: set conserve to Sz\n",
      "INFO    : reached time 1.10, max chi=18\n",
      "INFO    : Calculate U for {'dt': 0.05, 'order': 1, 'approximation': 'II', 'time': 1.1000000000000003}\n",
      "INFO    : MyTimeDepModel: set conserve to Sz\n",
      "INFO    : Calculate U for {'dt': 0.05, 'order': 1, 'approximation': 'II', 'time': 1.1500000000000004}\n",
      "INFO    : MyTimeDepModel: set conserve to Sz\n",
      "INFO    : reached time 1.20, max chi=20\n",
      "INFO    : Calculate U for {'dt': 0.05, 'order': 1, 'approximation': 'II', 'time': 1.2000000000000004}\n",
      "INFO    : MyTimeDepModel: set conserve to Sz\n",
      "INFO    : Calculate U for {'dt': 0.05, 'order': 1, 'approximation': 'II', 'time': 1.2500000000000004}\n",
      "INFO    : MyTimeDepModel: set conserve to Sz\n",
      "INFO    : reached time 1.30, max chi=22\n",
      "INFO    : Calculate U for {'dt': 0.05, 'order': 1, 'approximation': 'II', 'time': 1.3000000000000005}\n",
      "INFO    : MyTimeDepModel: set conserve to Sz\n",
      "INFO    : Calculate U for {'dt': 0.05, 'order': 1, 'approximation': 'II', 'time': 1.3500000000000005}\n",
      "INFO    : MyTimeDepModel: set conserve to Sz\n",
      "INFO    : reached time 1.40, max chi=22\n",
      "INFO    : Calculate U for {'dt': 0.05, 'order': 1, 'approximation': 'II', 'time': 1.4000000000000006}\n",
      "INFO    : MyTimeDepModel: set conserve to Sz\n",
      "INFO    : Calculate U for {'dt': 0.05, 'order': 1, 'approximation': 'II', 'time': 1.4500000000000006}\n",
      "INFO    : MyTimeDepModel: set conserve to Sz\n",
      "INFO    : reached time 1.50, max chi=23\n",
      "INFO    : finished simulation run\n",
      "================================================================================\n"
     ]
    }
   ],
   "source": [
    "res = tenpy.run_simulation('RealTimeEvolution', **sim_params)"
   ]
  },
  {
   "cell_type": "code",
   "execution_count": 8,
   "metadata": {},
   "outputs": [
    {
     "data": {
      "text/plain": [
       "array([-325.     +0.j,  -29.63282+0.j,  -15.568  +0.j,  -10.57126+0.j,   -8.00839+0.j,   -6.44829+0.j,   -5.39811+0.j,\n",
       "         -4.64262+0.j,   -4.07283+0.j,   -3.62763+0.j,   -3.2701 +0.j,   -2.97661+0.j,   -2.73133+0.j,   -2.52328+0.j,\n",
       "         -2.34455+0.j,   -2.18937+0.j])"
      ]
     },
     "execution_count": 8,
     "metadata": {},
     "output_type": "execute_result"
    }
   ],
   "source": [
    "res['measurements']['energy_MPO']"
   ]
  },
  {
   "cell_type": "code",
   "execution_count": null,
   "metadata": {},
   "outputs": [],
   "source": []
  },
  {
   "cell_type": "code",
   "execution_count": null,
   "metadata": {},
   "outputs": [],
   "source": []
  }
 ],
 "metadata": {
  "kernelspec": {
   "display_name": "Python 3",
   "language": "python",
   "name": "python3"
  },
  "language_info": {
   "codemirror_mode": {
    "name": "ipython",
    "version": 3
   },
   "file_extension": ".py",
   "mimetype": "text/x-python",
   "name": "python",
   "nbconvert_exporter": "python",
   "pygments_lexer": "ipython3",
   "version": "3.8.1"
  }
 },
 "nbformat": 4,
 "nbformat_minor": 4
}
