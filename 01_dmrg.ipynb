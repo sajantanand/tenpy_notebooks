{
 "cells": [
  {
   "cell_type": "markdown",
   "metadata": {},
   "source": [
    "# A first finite DMRG Example\n",
    "\n",
    "Like `examples/d_dmrg.py`, this notebook shows the basic interface for DMRG.\n",
    "It initalized the transverse field Ising model $H = J XX + g Z$ at the critical point $J=g=1$,\n",
    "and a finite MPS in the all-up state $|\\uparrow\\cdots \\uparrow\\rangle$.\n",
    "It then runs DMRG to find the ground state.\n",
    "Finally, we look at the profile of the entanglement-cuts."
   ]
  },
  {
   "cell_type": "code",
   "execution_count": 1,
   "metadata": {},
   "outputs": [],
   "source": [
    "import numpy as np\n",
    "import scipy\n",
    "import matplotlib.pyplot as plt"
   ]
  },
  {
   "cell_type": "code",
   "execution_count": 2,
   "metadata": {},
   "outputs": [],
   "source": [
    "import tenpy\n",
    "import tenpy.linalg.np_conserved as npc\n",
    "from tenpy.algorithms import dmrg\n",
    "from tenpy.networks.mps import MPS\n",
    "from tenpy.models.tf_ising import TFIChain"
   ]
  },
  {
   "cell_type": "code",
   "execution_count": 3,
   "metadata": {},
   "outputs": [],
   "source": [
    "L = 100"
   ]
  },
  {
   "cell_type": "code",
   "execution_count": 4,
   "metadata": {},
   "outputs": [
    {
     "name": "stdout",
     "output_type": "stream",
     "text": [
      "Reading 'bc_MPS'='finite' for config TFIChain\n",
      "Reading 'L'=100 for config TFIChain\n",
      "Reading 'J'=1.0 for config TFIChain\n",
      "Reading 'g'=1.0 for config TFIChain\n"
     ]
    }
   ],
   "source": [
    "model_params = {\n",
    "    'J': 1. , 'g': 1.,  # critical\n",
    "    'L': L,\n",
    "    'bc_MPS': 'finite',    \n",
    "}\n",
    "\n",
    "M = TFIChain(model_params)"
   ]
  },
  {
   "cell_type": "code",
   "execution_count": 5,
   "metadata": {},
   "outputs": [],
   "source": [
    "psi = MPS.from_lat_product_state(M.lat, [['up']])"
   ]
  },
  {
   "cell_type": "code",
   "execution_count": 6,
   "metadata": {},
   "outputs": [
    {
     "name": "stdout",
     "output_type": "stream",
     "text": [
      "Reading 'combine'=True for config TwoSiteDMRGEngine\n",
      "Subconfig 'trunc_params'=Config(<3 options>, 'trunc_params') for config TwoSiteDMRGEngine\n",
      "Reading 'max_E_err'=1e-10 for config TwoSiteDMRGEngine\n",
      "Reading 'mixer'=None for config TwoSiteDMRGEngine\n",
      "================================================================================\n",
      "sweep 1, age = 100\n",
      "Energy = -126.9290280127265333, S = 0.3766760098039985, norm_err = 1.2e-01\n",
      "Current memory usage 97.4 MB, time elapsed: 2.3 s\n",
      "Delta E = nan, Delta S = nan (per sweep)\n",
      "max_trunc_err = 0.0000e+00, max_E_trunc = 1.8474e-13\n",
      "MPS bond dimensions: [2, 4, 4, 4, 4, 4, 4, 4, 4, 4, 4, 4, 4, 4, 4, 4, 4, 4, 4, 4, 4, 4, 4, 4, 4, 4, 4, 4, 4, 4, 4, 4, 4, 4, 4, 4, 4, 4, 4, 4, 4, 4, 4, 4, 4, 4, 4, 4, 4, 4, 4, 4, 4, 4, 4, 4, 4, 4, 4, 4, 4, 4, 4, 4, 4, 4, 4, 4, 4, 4, 4, 4, 4, 4, 4, 4, 4, 4, 4, 4, 4, 4, 4, 4, 4, 4, 4, 4, 4, 4, 4, 4, 4, 4, 4, 4, 4, 4, 2]\n",
      "================================================================================\n",
      "sweep 2, age = 100\n",
      "Energy = -126.9618018107068309, S = 0.5108558254154341, norm_err = 7.0e-03\n",
      "Current memory usage 99.5 MB, time elapsed: 5.6 s\n",
      "Delta E = -3.2774e-02, Delta S = 1.3418e-01 (per sweep)\n",
      "max_trunc_err = 0.0000e+00, max_E_trunc = 1.9895e-13\n",
      "MPS bond dimensions: [2, 4, 8, 16, 16, 16, 16, 16, 16, 16, 16, 16, 16, 16, 16, 16, 16, 16, 16, 16, 16, 16, 16, 16, 16, 16, 16, 16, 16, 16, 16, 16, 16, 16, 16, 16, 16, 16, 16, 16, 16, 16, 16, 16, 16, 16, 16, 16, 16, 16, 16, 16, 16, 16, 16, 16, 16, 16, 16, 16, 16, 16, 16, 16, 16, 16, 16, 16, 16, 16, 16, 16, 16, 16, 16, 16, 16, 16, 16, 16, 16, 16, 16, 16, 16, 16, 16, 16, 16, 16, 16, 16, 16, 16, 16, 16, 8, 4, 2]\n",
      "================================================================================\n",
      "sweep 3, age = 100\n",
      "Energy = -126.9618767383882130, S = 0.5277643082687588, norm_err = 1.1e-05\n",
      "Current memory usage 107.0 MB, time elapsed: 10.1 s\n",
      "Delta E = -7.4928e-05, Delta S = 1.6908e-02 (per sweep)\n",
      "max_trunc_err = 4.7789e-20, max_E_trunc = 2.8422e-13\n",
      "MPS bond dimensions: [2, 4, 8, 16, 27, 35, 39, 43, 46, 49, 49, 52, 55, 60, 62, 64, 64, 64, 64, 64, 64, 64, 64, 64, 64, 64, 64, 64, 64, 64, 64, 64, 64, 64, 64, 64, 64, 64, 64, 64, 64, 64, 64, 64, 64, 64, 64, 64, 64, 64, 64, 64, 64, 64, 64, 64, 64, 64, 64, 64, 64, 64, 64, 64, 64, 64, 64, 64, 64, 64, 64, 64, 64, 64, 64, 64, 64, 64, 64, 64, 64, 64, 61, 59, 60, 55, 51, 47, 44, 42, 42, 38, 35, 32, 23, 16, 8, 4, 2]\n",
      "================================================================================\n",
      "sweep 4, age = 100\n",
      "Energy = -126.9618767396799086, S = 0.5277994024302479, norm_err = 5.8e-10\n",
      "Current memory usage 115.4 MB, time elapsed: 16.9 s\n",
      "Delta E = -1.2917e-09, Delta S = 3.5094e-05 (per sweep)\n",
      "max_trunc_err = 1.3388e-18, max_E_trunc = 2.8422e-13\n",
      "MPS bond dimensions: [2, 4, 8, 16, 22, 30, 34, 36, 41, 45, 47, 48, 52, 54, 57, 61, 61, 63, 64, 66, 67, 70, 71, 72, 74, 76, 76, 77, 79, 79, 80, 82, 83, 83, 83, 84, 84, 84, 84, 86, 86, 89, 88, 89, 89, 88, 88, 89, 88, 88, 88, 87, 86, 87, 87, 87, 87, 86, 86, 85, 85, 84, 84, 84, 83, 83, 83, 83, 81, 80, 79, 77, 77, 77, 75, 73, 71, 70, 67, 66, 64, 62, 61, 61, 57, 54, 52, 48, 47, 45, 41, 36, 34, 30, 22, 16, 8, 4, 2]\n",
      "================================================================================\n",
      "sweep 5, age = 100\n",
      "Energy = -126.9618767396792691, S = 0.5277994025033066, norm_err = 2.1e-13\n",
      "Current memory usage 115.4 MB, time elapsed: 20.4 s\n",
      "Delta E = 6.3949e-13, Delta S = 7.3059e-11 (per sweep)\n",
      "max_trunc_err = 6.5986e-20, max_E_trunc = 3.1264e-13\n",
      "MPS bond dimensions: [2, 4, 8, 16, 22, 30, 34, 36, 41, 45, 47, 48, 52, 54, 57, 61, 61, 63, 64, 66, 67, 71, 71, 74, 77, 77, 78, 79, 81, 81, 81, 83, 83, 84, 85, 85, 85, 85, 86, 88, 89, 90, 90, 90, 90, 90, 90, 91, 91, 91, 90, 90, 90, 90, 90, 90, 90, 90, 89, 88, 86, 86, 85, 85, 85, 84, 83, 83, 81, 81, 81, 79, 78, 78, 77, 73, 71, 71, 67, 66, 64, 63, 61, 61, 57, 54, 52, 48, 47, 45, 41, 36, 34, 30, 22, 16, 8, 4, 2]\n",
      "================================================================================\n",
      "DMRG finished after 5 sweeps.\n",
      "total size = 100, maximum chi = 91\n",
      "================================================================================\n"
     ]
    }
   ],
   "source": [
    "dmrg_params = {\n",
    "    'mixer': None,  # setting this to True helps to escape local minima\n",
    "    'max_E_err': 1.e-10,\n",
    "    'trunc_params': {\n",
    "        'chi_max': 100,\n",
    "        'svd_min': 1.e-10,\n",
    "    },\n",
    "    'verbose': True,\n",
    "    'combine': True\n",
    "}\n",
    "eng = dmrg.TwoSiteDMRGEngine(psi, M, dmrg_params) \n",
    "E, psi = eng.run() # the main work; modifies psi in place"
   ]
  },
  {
   "cell_type": "markdown",
   "metadata": {},
   "source": [
    "## Expectation Values"
   ]
  },
  {
   "cell_type": "code",
   "execution_count": 7,
   "metadata": {},
   "outputs": [
    {
     "name": "stdout",
     "output_type": "stream",
     "text": [
      "ground state energy =  -126.96187673967927\n"
     ]
    }
   ],
   "source": [
    "# the ground state energy was directly returned by dmrg.run()\n",
    "print(\"ground state energy = \", E)\n",
    "\n",
    "# there are other ways to extract the energy from psi:\n",
    "E1 = M.H_MPO.expectation_value(psi)  # based on the MPO\n",
    "E2 = np.sum(M.bond_energies(psi))  # based on bond terms of H, works only for a NearestNeighborModel\n",
    "assert abs(E-E1) < 1.e-10 and abs(E-E2) < 1.e-10"
   ]
  },
  {
   "cell_type": "code",
   "execution_count": 8,
   "metadata": {},
   "outputs": [
    {
     "data": {
      "image/png": "[encoded data removed]",
      "text/plain": [
       "<Figure size 432x288 with 1 Axes>"
      ]
     },
     "metadata": {
      "needs_background": "light"
     },
     "output_type": "display_data"
    }
   ],
   "source": [
    "# onsite expectation values\n",
    "\n",
    "X = psi.expectation_value(\"Sigmax\")\n",
    "Z = psi.expectation_value(\"Sigmaz\")\n",
    "x = np.arange(psi.L)\n",
    "plt.figure()\n",
    "plt.plot(x, Z, label=\"Z\")\n",
    "plt.plot(x, X, label=\"X\")   # note: it's clear that this is zero due to charge conservation!\n",
    "plt.xlabel(\"site\")\n",
    "plt.ylabel(\"onsite expectation value\")\n",
    "plt.legend()\n",
    "plt.show()"
   ]
  },
  {
   "cell_type": "code",
   "execution_count": 9,
   "metadata": {},
   "outputs": [
    {
     "data": {
      "image/png": "[encoded data removed]",
      "text/plain": [
       "<Figure size 432x288 with 1 Axes>"
      ]
     },
     "metadata": {
      "needs_background": "light"
     },
     "output_type": "display_data"
    }
   ],
   "source": [
    "# correlation functions\n",
    "\n",
    "i0 = psi.L // 4  # for fixed `i`\n",
    "j = np.arange(i0 + 1, psi.L)\n",
    "XX = psi.term_correlation_function_right([(\"Sigmax\", 0)], [(\"Sigmax\", 0)], i_L=i0, j_R=j)\n",
    "XX_disc = XX - X[i0] * X[j]\n",
    "ZZ = psi.term_correlation_function_right([(\"Sigmaz\", 0)], [(\"Sigmaz\", 0)], i_L=i0, j_R=j)\n",
    "ZZ_disc = ZZ - Z[i0] * Z[j]\n",
    "\n",
    "dx = j - i0\n",
    "plt.figure()\n",
    "plt.plot(dx, XX_disc, label=\"X X\")\n",
    "plt.plot(dx, ZZ_disc, label=\"Z Z\")\n",
    "plt.xlabel(r\"distance $|i-j|$\")\n",
    "plt.ylabel(r\"disconnected correlations $\\langle A_i A_j\\rangle - \\langle A_i \\rangle\\langle A_j\\rangle$\")\n",
    "plt.legend()\n",
    "plt.loglog()\n",
    "plt.show()"
   ]
  },
  {
   "cell_type": "markdown",
   "metadata": {},
   "source": [
    "We find power-law decaying correlations, as expected for a critical model.\n",
    "For a gapped model, we would expect exponentially decaying correlations.\n",
    "\n",
    "----\n",
    "\n",
    "We now look at the entanglement entropy. The transverse-field Ising model is critical at $g=J$.\n",
    "Conformal field theory, [Calabrese,Cardy 2004](https://arxiv.org/abs/hep-th/0405152), predicts an entanglement entropy profile of\n",
    "$$S(l, L) = \\frac{c}{6} \\log\\left(\\frac{2L}{\\pi a} \\sin\\left(\\frac{\\pi l}{L}\\right)\\right) + \\textrm{const}$$\n",
    "where $c=0.5$ is the central charge, $a$ is the lattice spacing (we set $a=1$), $L$ is the total size of the system and we consider subsystems of size $l$ and $L-l$ as left/right.\n",
    "Note that this yields the familiar $S(L/2, L) = \\frac{c}{6} \\log(L) + \\textrm{const}$ for the half-chain entropy as a function of system size."
   ]
  },
  {
   "cell_type": "code",
   "execution_count": 12,
   "metadata": {},
   "outputs": [
    {
     "name": "stdout",
     "output_type": "stream",
     "text": [
      "extraced central charge 0.50788 with residuum 1.95e-09\n",
      "(Expect central charge = 0.5 for the transverse field Ising model.)\n"
     ]
    },
    {
     "data": {
      "image/png": "[encoded data removed]",
      "text/plain": [
       "<Figure size 432x288 with 1 Axes>"
      ]
     },
     "metadata": {
      "needs_background": "light"
     },
     "output_type": "display_data"
    }
   ],
   "source": [
    "S = psi.entanglement_entropy()\n",
    "\n",
    "bonds = np.arange(0.5, psi.L-1)\n",
    "plt.plot(bonds, S, 'o', label=\"S\")\n",
    "\n",
    "# preform fit to extract the central charge\n",
    "central_charge, const, res = tenpy.tools.fit.central_charge_from_S_profile(psi)\n",
    "fit = tenpy.tools.fit.entropy_profile_from_CFT(bonds + 0.5, psi.L, central_charge, const)\n",
    "print(f\"extraced central charge {central_charge:.5f} with residuum {res:.2e}\")\n",
    "print(\"(Expect central charge = 0.5 for the transverse field Ising model.)\")\n",
    "plt.plot(bonds, fit, label=f\"fit with $c={central_charge:.3f}$\")\n",
    "plt.xlabel(\"bond\")\n",
    "plt.ylabel(\"entanglement entropy $S$\")\n",
    "plt.legend()\n",
    "plt.show()"
   ]
  },
  {
   "cell_type": "code",
   "execution_count": null,
   "metadata": {},
   "outputs": [],
   "source": []
  }
 ],
 "metadata": {
  "kernelspec": {
   "display_name": "Python 3",
   "language": "python",
   "name": "python3"
  },
  "language_info": {
   "codemirror_mode": {
    "name": "ipython",
    "version": 3
   },
   "file_extension": ".py",
   "mimetype": "text/x-python",
   "name": "python",
   "nbconvert_exporter": "python",
   "pygments_lexer": "ipython3",
   "version": "3.8.1"
  }
 },
 "nbformat": 4,
 "nbformat_minor": 4
}
